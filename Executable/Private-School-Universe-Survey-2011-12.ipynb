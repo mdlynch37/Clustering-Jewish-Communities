{
 "cells": [
  {
   "cell_type": "markdown",
   "metadata": {},
   "source": [
    "# Private School Universe Survey"
   ]
  },
  {
   "cell_type": "code",
   "execution_count": 1,
   "metadata": {
    "collapsed": true
   },
   "outputs": [],
   "source": [
    "from collections import OrderedDict\n",
    "from imp import reload\n",
    "import random\n",
    "\n",
    "import matplotlib.pyplot as plt\n",
    "import numpy as np\n",
    "import pandas as pd\n",
    "import seaborn as sns\n",
    "\n",
    "from IPython.display import display\n",
    "\n",
    "from hud_geo_conversions import read_zips_to_fips\n",
    "from map_maker import draw_county_data_svg\n",
    "from utilities import (display_cb, is_outlier_instance, is_outlier_val,\n",
    "                       read_fips_codes)\n",
    "from probplots import ProbPlots, plot_dists_pps\n",
    "\n",
    "from jewish_county_data import read_jdata_counties, clean_jdata_county\n",
    "\n",
    "pd.set_option('display.float_format', lambda x: '%.3f' % x)\n",
    "%matplotlib inline\n",
    "\n",
    "SEED = 42\n",
    "random.seed(SEED)"
   ]
  },
  {
   "cell_type": "code",
   "execution_count": 2,
   "metadata": {
    "collapsed": true
   },
   "outputs": [],
   "source": [
    "DATA_DIR    = '../Data/'\n",
    "IMG_DIR = '../Images/'\n",
    "DEM_DIR = ''.join([DATA_DIR, 'Demography/'])\n",
    "SCL_DIR = ''.join([DATA_DIR, 'Schools/'])\n",
    "\n",
    "\n",
    "zips_to_fips = read_zips_to_fips()  # used for multiple datasets later\n",
    "fips_codes = read_fips_codes(''.join([DATA_DIR, 'Census-2010-County-FIPS.txt']))\n",
    "\n",
    "REL_DIR  = ''.join([DATA_DIR, 'Religion/'])\n",
    "RELCEN_CB_PATH  = ''.join([REL_DIR, 'US-Religion-Census-2010-County-File-CB.TXT'])\n",
    "RELCEN_DAT_PATH = ''.join([REL_DIR, 'US-Religion-Census-2010-County-File.DTA'])\n",
    "\n",
    "JDATA_PATH = ''.join([SCL_DIR, 'jdata_directory.json'])\n",
    "\n",
    "AJPP_PATH      = ''.join([DEM_DIR, 'AJPP_County2015.xlsx'])\n",
    "AJPP_GEO_PATH  = ''.join([DEM_DIR, 'AJPP_CountyGroupDefinitions2015.xlsx'])"
   ]
  },
  {
   "cell_type": "code",
   "execution_count": 3,
   "metadata": {
    "collapsed": true
   },
   "outputs": [],
   "source": [
    "SCL_DIR  = ''.join([DATA_DIR, 'Schools/'])\n",
    "PSS_RAW_DICT_PATH = ''.join([SCL_DIR, 'pss_raw_dict.csv'])\n",
    "PSS_RAW_PATH = ''.join([SCL_DIR, 'pss1112_pu.txt'])"
   ]
  },
  {
   "cell_type": "code",
   "execution_count": 4,
   "metadata": {
    "collapsed": true
   },
   "outputs": [],
   "source": [
    "from pss import read_pss_raw_dict, read_pss_raw\n",
    "\n",
    "pss_raw_dict_all = read_pss_raw_dict(PSS_RAW_DICT_PATH)"
   ]
  },
  {
   "cell_type": "code",
   "execution_count": 5,
   "metadata": {},
   "outputs": [
    {
     "data": {
      "text/html": [
       "<div>\n",
       "<table border=\"1\" class=\"dataframe\">\n",
       "  <thead>\n",
       "    <tr style=\"text-align: right;\">\n",
       "      <th></th>\n",
       "      <th>Pos</th>\n",
       "      <th>Var_Type</th>\n",
       "      <th>Len</th>\n",
       "      <th>Code</th>\n",
       "      <th>Label</th>\n",
       "      <th>QNum</th>\n",
       "    </tr>\n",
       "    <tr>\n",
       "      <th>Name</th>\n",
       "      <th></th>\n",
       "      <th></th>\n",
       "      <th></th>\n",
       "      <th></th>\n",
       "      <th></th>\n",
       "      <th></th>\n",
       "    </tr>\n",
       "  </thead>\n",
       "  <tbody>\n",
       "    <tr>\n",
       "      <th>P135</th>\n",
       "      <td>91</td>\n",
       "      <td>NUM</td>\n",
       "      <td>8</td>\n",
       "      <td>Q5A_GRD</td>\n",
       "      <td>5A Ungraded Offered</td>\n",
       "      <td>5</td>\n",
       "    </tr>\n",
       "    <tr>\n",
       "      <th>P140</th>\n",
       "      <td>92</td>\n",
       "      <td>NUM</td>\n",
       "      <td>8</td>\n",
       "      <td>Q5A_ENRL</td>\n",
       "      <td>5A Ungraded Enrollment</td>\n",
       "      <td>5</td>\n",
       "    </tr>\n",
       "    <tr>\n",
       "      <th>P145</th>\n",
       "      <td>93</td>\n",
       "      <td>NUM</td>\n",
       "      <td>8</td>\n",
       "      <td>Q5B_GRD</td>\n",
       "      <td>5B Nursery/Prekindergarten Offered</td>\n",
       "      <td>5</td>\n",
       "    </tr>\n",
       "    <tr>\n",
       "      <th>P150</th>\n",
       "      <td>94</td>\n",
       "      <td>NUM</td>\n",
       "      <td>8</td>\n",
       "      <td>Q5B_ENRL</td>\n",
       "      <td>5B Nursery/Prekindergarten Enrollment</td>\n",
       "      <td>5</td>\n",
       "    </tr>\n",
       "    <tr>\n",
       "      <th>P155</th>\n",
       "      <td>95</td>\n",
       "      <td>NUM</td>\n",
       "      <td>8</td>\n",
       "      <td>Q5C_GRD</td>\n",
       "      <td>5C Kindergarten Offered</td>\n",
       "      <td>5</td>\n",
       "    </tr>\n",
       "  </tbody>\n",
       "</table>\n",
       "</div>"
      ],
      "text/plain": [
       "      Pos Var_Type  Len      Code                                  Label QNum\n",
       "Name                                                                         \n",
       "P135   91      NUM    8   Q5A_GRD                    5A Ungraded Offered    5\n",
       "P140   92      NUM    8  Q5A_ENRL                 5A Ungraded Enrollment    5\n",
       "P145   93      NUM    8   Q5B_GRD     5B Nursery/Prekindergarten Offered    5\n",
       "P150   94      NUM    8  Q5B_ENRL  5B Nursery/Prekindergarten Enrollment    5\n",
       "P155   95      NUM    8   Q5C_GRD                5C Kindergarten Offered    5"
      ]
     },
     "execution_count": 5,
     "metadata": {},
     "output_type": "execute_result"
    }
   ],
   "source": [
    "are_resps = lambda df: df.Code.str.startswith('Q')\n",
    "pss_raw_dict_qs = pss_raw_dict_all.loc[are_resps, :]\n",
    "pss_raw_dict_qs.head()"
   ]
  },
  {
   "cell_type": "code",
   "execution_count": 6,
   "metadata": {},
   "outputs": [
    {
     "data": {
      "text/html": [
       "<div>\n",
       "<table border=\"1\" class=\"dataframe\">\n",
       "  <thead>\n",
       "    <tr style=\"text-align: right;\">\n",
       "      <th></th>\n",
       "      <th>PFNLWT</th>\n",
       "      <th>REPW1</th>\n",
       "      <th>REPW2</th>\n",
       "      <th>REPW3</th>\n",
       "      <th>REPW4</th>\n",
       "      <th>REPW5</th>\n",
       "      <th>REPW6</th>\n",
       "      <th>REPW7</th>\n",
       "      <th>REPW8</th>\n",
       "      <th>REPW9</th>\n",
       "      <th>...</th>\n",
       "      <th>F_P660</th>\n",
       "      <th>S_KG</th>\n",
       "      <th>P_INDIAN</th>\n",
       "      <th>P_ASIAN</th>\n",
       "      <th>P_PACIFIC</th>\n",
       "      <th>P_HISP</th>\n",
       "      <th>P_WHITE</th>\n",
       "      <th>P_BLACK</th>\n",
       "      <th>P_TR</th>\n",
       "      <th>STTCH_RT</th>\n",
       "    </tr>\n",
       "    <tr>\n",
       "      <th>ID</th>\n",
       "      <th></th>\n",
       "      <th></th>\n",
       "      <th></th>\n",
       "      <th></th>\n",
       "      <th></th>\n",
       "      <th></th>\n",
       "      <th></th>\n",
       "      <th></th>\n",
       "      <th></th>\n",
       "      <th></th>\n",
       "      <th></th>\n",
       "      <th></th>\n",
       "      <th></th>\n",
       "      <th></th>\n",
       "      <th></th>\n",
       "      <th></th>\n",
       "      <th></th>\n",
       "      <th></th>\n",
       "      <th></th>\n",
       "      <th></th>\n",
       "      <th></th>\n",
       "    </tr>\n",
       "  </thead>\n",
       "  <tbody>\n",
       "    <tr>\n",
       "      <th>A1192001</th>\n",
       "      <td>1.084</td>\n",
       "      <td>1.084</td>\n",
       "      <td>1.084</td>\n",
       "      <td>1.084</td>\n",
       "      <td>1.084</td>\n",
       "      <td>1.084</td>\n",
       "      <td>1.084</td>\n",
       "      <td>1.084</td>\n",
       "      <td>1.084</td>\n",
       "      <td>1.084</td>\n",
       "      <td>...</td>\n",
       "      <td>0</td>\n",
       "      <td>6</td>\n",
       "      <td>0.000</td>\n",
       "      <td>0.000</td>\n",
       "      <td>0.000</td>\n",
       "      <td>3.448</td>\n",
       "      <td>1.724</td>\n",
       "      <td>91.379</td>\n",
       "      <td>3.448</td>\n",
       "      <td>6.988</td>\n",
       "    </tr>\n",
       "    <tr>\n",
       "      <th>A1192003</th>\n",
       "      <td>1.049</td>\n",
       "      <td>1.049</td>\n",
       "      <td>1.049</td>\n",
       "      <td>1.049</td>\n",
       "      <td>1.049</td>\n",
       "      <td>1.049</td>\n",
       "      <td>1.049</td>\n",
       "      <td>1.049</td>\n",
       "      <td>1.049</td>\n",
       "      <td>1.049</td>\n",
       "      <td>...</td>\n",
       "      <td>0</td>\n",
       "      <td>14</td>\n",
       "      <td>0.000</td>\n",
       "      <td>0.000</td>\n",
       "      <td>0.000</td>\n",
       "      <td>0.000</td>\n",
       "      <td>0.000</td>\n",
       "      <td>100.000</td>\n",
       "      <td>0.000</td>\n",
       "      <td>6.869</td>\n",
       "    </tr>\n",
       "    <tr>\n",
       "      <th>BB120001</th>\n",
       "      <td>1.320</td>\n",
       "      <td>2.640</td>\n",
       "      <td>0.000</td>\n",
       "      <td>0.000</td>\n",
       "      <td>2.640</td>\n",
       "      <td>0.000</td>\n",
       "      <td>0.000</td>\n",
       "      <td>2.640</td>\n",
       "      <td>2.640</td>\n",
       "      <td>0.000</td>\n",
       "      <td>...</td>\n",
       "      <td>0</td>\n",
       "      <td>22</td>\n",
       "      <td>0.000</td>\n",
       "      <td>0.000</td>\n",
       "      <td>0.000</td>\n",
       "      <td>31.818</td>\n",
       "      <td>0.000</td>\n",
       "      <td>68.182</td>\n",
       "      <td>0.000</td>\n",
       "      <td>36.667</td>\n",
       "    </tr>\n",
       "    <tr>\n",
       "      <th>A0500002</th>\n",
       "      <td>1.000</td>\n",
       "      <td>1.000</td>\n",
       "      <td>1.000</td>\n",
       "      <td>1.000</td>\n",
       "      <td>1.000</td>\n",
       "      <td>1.000</td>\n",
       "      <td>1.000</td>\n",
       "      <td>1.000</td>\n",
       "      <td>1.000</td>\n",
       "      <td>1.000</td>\n",
       "      <td>...</td>\n",
       "      <td>0</td>\n",
       "      <td>2</td>\n",
       "      <td>0.000</td>\n",
       "      <td>0.000</td>\n",
       "      <td>0.000</td>\n",
       "      <td>0.000</td>\n",
       "      <td>91.111</td>\n",
       "      <td>8.889</td>\n",
       "      <td>0.000</td>\n",
       "      <td>11.250</td>\n",
       "    </tr>\n",
       "    <tr>\n",
       "      <th>00000769</th>\n",
       "      <td>1.147</td>\n",
       "      <td>1.147</td>\n",
       "      <td>1.147</td>\n",
       "      <td>1.147</td>\n",
       "      <td>1.147</td>\n",
       "      <td>1.147</td>\n",
       "      <td>1.147</td>\n",
       "      <td>1.147</td>\n",
       "      <td>1.147</td>\n",
       "      <td>1.147</td>\n",
       "      <td>...</td>\n",
       "      <td>0</td>\n",
       "      <td>45</td>\n",
       "      <td>0.000</td>\n",
       "      <td>1.107</td>\n",
       "      <td>0.000</td>\n",
       "      <td>1.476</td>\n",
       "      <td>82.657</td>\n",
       "      <td>12.177</td>\n",
       "      <td>2.583</td>\n",
       "      <td>10.586</td>\n",
       "    </tr>\n",
       "  </tbody>\n",
       "</table>\n",
       "<p>5 rows × 345 columns</p>\n",
       "</div>"
      ],
      "text/plain": [
       "          PFNLWT  REPW1  REPW2  REPW3  REPW4  REPW5  REPW6  REPW7  REPW8  \\\n",
       "ID                                                                         \n",
       "A1192001   1.084  1.084  1.084  1.084  1.084  1.084  1.084  1.084  1.084   \n",
       "A1192003   1.049  1.049  1.049  1.049  1.049  1.049  1.049  1.049  1.049   \n",
       "BB120001   1.320  2.640  0.000  0.000  2.640  0.000  0.000  2.640  2.640   \n",
       "A0500002   1.000  1.000  1.000  1.000  1.000  1.000  1.000  1.000  1.000   \n",
       "00000769   1.147  1.147  1.147  1.147  1.147  1.147  1.147  1.147  1.147   \n",
       "\n",
       "          REPW9    ...     F_P660  S_KG  P_INDIAN  P_ASIAN  P_PACIFIC  P_HISP  \\\n",
       "ID                 ...                                                          \n",
       "A1192001  1.084    ...          0     6     0.000    0.000      0.000   3.448   \n",
       "A1192003  1.049    ...          0    14     0.000    0.000      0.000   0.000   \n",
       "BB120001  0.000    ...          0    22     0.000    0.000      0.000  31.818   \n",
       "A0500002  1.000    ...          0     2     0.000    0.000      0.000   0.000   \n",
       "00000769  1.147    ...          0    45     0.000    1.107      0.000   1.476   \n",
       "\n",
       "          P_WHITE  P_BLACK  P_TR  STTCH_RT  \n",
       "ID                                          \n",
       "A1192001    1.724   91.379 3.448     6.988  \n",
       "A1192003    0.000  100.000 0.000     6.869  \n",
       "BB120001    0.000   68.182 0.000    36.667  \n",
       "A0500002   91.111    8.889 0.000    11.250  \n",
       "00000769   82.657   12.177 2.583    10.586  \n",
       "\n",
       "[5 rows x 345 columns]"
      ]
     },
     "execution_count": 6,
     "metadata": {},
     "output_type": "execute_result"
    }
   ],
   "source": [
    "pss_raw = read_pss_raw(PSS_RAW_PATH)\n",
    "pss_raw.head()\n"
   ]
  },
  {
   "cell_type": "code",
   "execution_count": 7,
   "metadata": {},
   "outputs": [
    {
     "name": "stdout",
     "output_type": "stream",
     "text": [
      "No. Jewish schools: 793\n"
     ]
    },
    {
     "data": {
      "text/html": [
       "<div>\n",
       "<table border=\"1\" class=\"dataframe\">\n",
       "  <thead>\n",
       "    <tr style=\"text-align: right;\">\n",
       "      <th></th>\n",
       "      <th>Name_shorter</th>\n",
       "      <th>State</th>\n",
       "      <th>State2</th>\n",
       "      <th>FIPS_State</th>\n",
       "      <th>Name</th>\n",
       "      <th>County</th>\n",
       "      <th>FIPS</th>\n",
       "      <th>Days</th>\n",
       "      <th>Hours</th>\n",
       "      <th>Library</th>\n",
       "      <th>...</th>\n",
       "      <th>Black_No</th>\n",
       "      <th>Black_Pc</th>\n",
       "      <th>White_No</th>\n",
       "      <th>White_Pc</th>\n",
       "      <th>Hawaiian_No</th>\n",
       "      <th>Hawaiian_Pc</th>\n",
       "      <th>Multi_No</th>\n",
       "      <th>Multi_Pc</th>\n",
       "      <th>Student_Teach_Ratio</th>\n",
       "      <th>Teachers_FTE</th>\n",
       "    </tr>\n",
       "    <tr>\n",
       "      <th>ID</th>\n",
       "      <th></th>\n",
       "      <th></th>\n",
       "      <th></th>\n",
       "      <th></th>\n",
       "      <th></th>\n",
       "      <th></th>\n",
       "      <th></th>\n",
       "      <th></th>\n",
       "      <th></th>\n",
       "      <th></th>\n",
       "      <th></th>\n",
       "      <th></th>\n",
       "      <th></th>\n",
       "      <th></th>\n",
       "      <th></th>\n",
       "      <th></th>\n",
       "      <th></th>\n",
       "      <th></th>\n",
       "      <th></th>\n",
       "      <th></th>\n",
       "      <th></th>\n",
       "    </tr>\n",
       "  </thead>\n",
       "  <tbody>\n",
       "    <tr>\n",
       "      <th>02157581</th>\n",
       "      <td>ABRAHAM JOSHUA HESCHEL DAY SCH</td>\n",
       "      <td>CA</td>\n",
       "      <td>CALIFORNIA</td>\n",
       "      <td>06</td>\n",
       "      <td>ABRAHAM JOSHUA HESCHEL DAY SCHOOL</td>\n",
       "      <td>LOS ANGELES</td>\n",
       "      <td>06037</td>\n",
       "      <td>180.000</td>\n",
       "      <td>7.500</td>\n",
       "      <td>1-Yes</td>\n",
       "      <td>...</td>\n",
       "      <td>nan</td>\n",
       "      <td>nan</td>\n",
       "      <td>nan</td>\n",
       "      <td>nan</td>\n",
       "      <td>nan</td>\n",
       "      <td>nan</td>\n",
       "      <td>nan</td>\n",
       "      <td>nan</td>\n",
       "      <td>7.680</td>\n",
       "      <td>52.500</td>\n",
       "    </tr>\n",
       "    <tr>\n",
       "      <th>A9104665</th>\n",
       "      <td>ABRAHAM JOSHUA HESCHEL HIGH SC</td>\n",
       "      <td>NY</td>\n",
       "      <td>NEW YORK</td>\n",
       "      <td>36</td>\n",
       "      <td>ABRAHAM JOSHUA HESCHEL HIGH SCHOOL</td>\n",
       "      <td>NEW YORK</td>\n",
       "      <td>36061</td>\n",
       "      <td>167.000</td>\n",
       "      <td>8.750</td>\n",
       "      <td>1-Yes</td>\n",
       "      <td>...</td>\n",
       "      <td>0.000</td>\n",
       "      <td>0.000</td>\n",
       "      <td>271.000</td>\n",
       "      <td>99.270</td>\n",
       "      <td>0.000</td>\n",
       "      <td>0.000</td>\n",
       "      <td>0.000</td>\n",
       "      <td>0.000</td>\n",
       "      <td>4.840</td>\n",
       "      <td>56.400</td>\n",
       "    </tr>\n",
       "    <tr>\n",
       "      <th>A9100497</th>\n",
       "      <td>ADAT ARI EL DAY SCHOOL</td>\n",
       "      <td>CA</td>\n",
       "      <td>CALIFORNIA</td>\n",
       "      <td>06</td>\n",
       "      <td>ADAT ARI EL DAY SCHOOL</td>\n",
       "      <td>LOS ANGELES</td>\n",
       "      <td>06037</td>\n",
       "      <td>176.000</td>\n",
       "      <td>6.170</td>\n",
       "      <td>1-Yes</td>\n",
       "      <td>...</td>\n",
       "      <td>0.000</td>\n",
       "      <td>0.000</td>\n",
       "      <td>184.000</td>\n",
       "      <td>98.920</td>\n",
       "      <td>0.000</td>\n",
       "      <td>0.000</td>\n",
       "      <td>0.000</td>\n",
       "      <td>0.000</td>\n",
       "      <td>6.410</td>\n",
       "      <td>29.000</td>\n",
       "    </tr>\n",
       "    <tr>\n",
       "      <th>BB120051</th>\n",
       "      <td>ADAT SHALOM</td>\n",
       "      <td>CA</td>\n",
       "      <td>CALIFORNIA</td>\n",
       "      <td>06</td>\n",
       "      <td>ADAT SHALOM</td>\n",
       "      <td>LOS ANGELES</td>\n",
       "      <td>06037</td>\n",
       "      <td>nan</td>\n",
       "      <td>nan</td>\n",
       "      <td>2-No</td>\n",
       "      <td>...</td>\n",
       "      <td>0.000</td>\n",
       "      <td>0.000</td>\n",
       "      <td>55.000</td>\n",
       "      <td>90.160</td>\n",
       "      <td>0.000</td>\n",
       "      <td>0.000</td>\n",
       "      <td>3.000</td>\n",
       "      <td>4.920</td>\n",
       "      <td>12.200</td>\n",
       "      <td>5.000</td>\n",
       "    </tr>\n",
       "    <tr>\n",
       "      <th>01263546</th>\n",
       "      <td>ADDLESTONE HEBREW ACADEMY</td>\n",
       "      <td>SC</td>\n",
       "      <td>SOUTH CAROLINA</td>\n",
       "      <td>45</td>\n",
       "      <td>ADDLESTONE HEBREW ACADEMY</td>\n",
       "      <td>CHARLESTON</td>\n",
       "      <td>45019</td>\n",
       "      <td>178.000</td>\n",
       "      <td>7.420</td>\n",
       "      <td>1-Yes</td>\n",
       "      <td>...</td>\n",
       "      <td>2.000</td>\n",
       "      <td>1.960</td>\n",
       "      <td>100.000</td>\n",
       "      <td>98.040</td>\n",
       "      <td>0.000</td>\n",
       "      <td>0.000</td>\n",
       "      <td>0.000</td>\n",
       "      <td>0.000</td>\n",
       "      <td>4.230</td>\n",
       "      <td>24.100</td>\n",
       "    </tr>\n",
       "  </tbody>\n",
       "</table>\n",
       "<p>5 rows × 60 columns</p>\n",
       "</div>"
      ],
      "text/plain": [
       "                            Name_shorter State          State2 FIPS_State  \\\n",
       "ID                                                                          \n",
       "02157581  ABRAHAM JOSHUA HESCHEL DAY SCH    CA      CALIFORNIA         06   \n",
       "A9104665  ABRAHAM JOSHUA HESCHEL HIGH SC    NY        NEW YORK         36   \n",
       "A9100497          ADAT ARI EL DAY SCHOOL    CA      CALIFORNIA         06   \n",
       "BB120051                     ADAT SHALOM    CA      CALIFORNIA         06   \n",
       "01263546       ADDLESTONE HEBREW ACADEMY    SC  SOUTH CAROLINA         45   \n",
       "\n",
       "                                        Name       County   FIPS    Days  \\\n",
       "ID                                                                         \n",
       "02157581   ABRAHAM JOSHUA HESCHEL DAY SCHOOL  LOS ANGELES  06037 180.000   \n",
       "A9104665  ABRAHAM JOSHUA HESCHEL HIGH SCHOOL     NEW YORK  36061 167.000   \n",
       "A9100497              ADAT ARI EL DAY SCHOOL  LOS ANGELES  06037 176.000   \n",
       "BB120051                         ADAT SHALOM  LOS ANGELES  06037     nan   \n",
       "01263546           ADDLESTONE HEBREW ACADEMY   CHARLESTON  45019 178.000   \n",
       "\n",
       "          Hours Library     ...      Black_No Black_Pc White_No White_Pc  \\\n",
       "ID                          ...                                            \n",
       "02157581  7.500   1-Yes     ...           nan      nan      nan      nan   \n",
       "A9104665  8.750   1-Yes     ...         0.000    0.000  271.000   99.270   \n",
       "A9100497  6.170   1-Yes     ...         0.000    0.000  184.000   98.920   \n",
       "BB120051    nan    2-No     ...         0.000    0.000   55.000   90.160   \n",
       "01263546  7.420   1-Yes     ...         2.000    1.960  100.000   98.040   \n",
       "\n",
       "         Hawaiian_No Hawaiian_Pc Multi_No Multi_Pc Student_Teach_Ratio  \\\n",
       "ID                                                                       \n",
       "02157581         nan         nan      nan      nan               7.680   \n",
       "A9104665       0.000       0.000    0.000    0.000               4.840   \n",
       "A9100497       0.000       0.000    0.000    0.000               6.410   \n",
       "BB120051       0.000       0.000    3.000    4.920              12.200   \n",
       "01263546       0.000       0.000    0.000    0.000               4.230   \n",
       "\n",
       "         Teachers_FTE  \n",
       "ID                     \n",
       "02157581       52.500  \n",
       "A9104665       56.400  \n",
       "A9100497       29.000  \n",
       "BB120051        5.000  \n",
       "01263546       24.100  \n",
       "\n",
       "[5 rows x 60 columns]"
      ]
     },
     "execution_count": 7,
     "metadata": {},
     "output_type": "execute_result"
    }
   ],
   "source": [
    "from pss import read_pss_table\n",
    "\n",
    "PSS_PATH = ''.join([SCL_DIR, 'ELSI_csv_export_6362018465286175957399.csv'])\n",
    "pss, pss_header, pss_footer = read_pss_table(PSS_PATH)\n",
    "pss = (pss.loc[pss.Religion=='Jewish', :]\n",
    "         .drop(['Religion', 'Orientation'], axis=1)\n",
    ")\n",
    "print('No. Jewish schools: {}'.format(pss.shape[0]))\n",
    "pss.State.value_counts().head()\n",
    "pss.head()"
   ]
  },
  {
   "cell_type": "code",
   "execution_count": 8,
   "metadata": {
    "collapsed": true
   },
   "outputs": [],
   "source": [
    "SCL_DIR  = ''.join([DATA_DIR, 'Schools/'])\n",
    "PSS_RAW_DICT_PATH = ''.join([SCL_DIR, 'pss_raw_dict.csv'])\n",
    "PSS_RAW_PATH = ''.join([SCL_DIR, 'pss1112_pu.txt'])"
   ]
  },
  {
   "cell_type": "markdown",
   "metadata": {},
   "source": [
    "# JData vs PSS"
   ]
  },
  {
   "cell_type": "markdown",
   "metadata": {},
   "source": [
    "Leave PSS data since no significant number missing from JData"
   ]
  },
  {
   "cell_type": "code",
   "execution_count": 9,
   "metadata": {
    "collapsed": true
   },
   "outputs": [],
   "source": [
    "import jdata\n",
    "jd_df = (jdata.read_jdata(JDATA_PATH)\n",
    "         .pipe(jdata.extract_clean_jdata))"
   ]
  },
  {
   "cell_type": "code",
   "execution_count": 10,
   "metadata": {},
   "outputs": [
    {
     "data": {
      "text/plain": [
       "((3821, 10), (793, 60))"
      ]
     },
     "execution_count": 10,
     "metadata": {},
     "output_type": "execute_result"
    }
   ],
   "source": [
    "jd_df.shape, pss.shape"
   ]
  },
  {
   "cell_type": "code",
   "execution_count": 11,
   "metadata": {},
   "outputs": [
    {
     "name": "stdout",
     "output_type": "stream",
     "text": [
      "(106, 62)\n"
     ]
    }
   ],
   "source": [
    "def norm_addr(cols):\n",
    "    \"\"\"Removes abbreviation points and converts to upper case.\"\"\"\n",
    "    \n",
    "    cols = cols.apply(lambda x: x.str.replace('.', '').str.upper())\n",
    "    return cols\n",
    "\n",
    "def make_addr_key(addr_col):\n",
    "    \"\"\"Creates column from address no. and first part of name.\"\"\"\n",
    "    \n",
    "    po_box = r'^(?:PO BOX \\d+)'\n",
    "    others = r'^(?:(?:\\d+[ ])?[^ ]+)'\n",
    "    pat = r''.join(['(', po_box, '|', others, ')'])\n",
    "    key_col = addr_col.str.extract(pat, expand=False)\n",
    "    \n",
    "    # Standardize North, South, East, West\n",
    "    convert = {r'[ ]NORTH':' N',\n",
    "               r'[ ]SOUTH':' S',\n",
    "               r'[ ]EAST':' E',\n",
    "               r'[ ]WEST':' W'}\n",
    "    key_col = key_col.replace(convert, regex=True)\n",
    "    \n",
    "    return key_col\n",
    "\n",
    "def make_name_key(col):\n",
    "    \"\"\"Creates column for first part of name for merge.\"\"\"\n",
    "    \n",
    "    col = col.str.extract(r'([^ ]+)')\n",
    "    return col\n",
    "\n",
    "jd_normed = jd_df.copy()\n",
    "upper_cols=['Name', 'Addr', 'City']\n",
    "jd_normed[upper_cols] = norm_addr(jd_normed[upper_cols])\n",
    "pss[upper_cols] = norm_addr(pss[upper_cols])\n",
    "\n",
    "jd_normed['Addr_Key'] = make_addr_key(jd_normed.Addr)\n",
    "pss['Addr_Key'] = make_addr_key(pss.Addr)\n",
    "jd_pss_1 = pd.merge(pss.reset_index(), jd_normed,\n",
    "                    on=['Addr_Key', 'City', 'State'])\n",
    "\n",
    "jd_normed['Name_Key'] = make_addr_key(jd_normed.Name)\n",
    "pss['Name_Key'] = make_addr_key(pss.Name)\n",
    "jd_pss_2 = pd.merge(pss.reset_index(), jd_normed,\n",
    "                    on=['Name_Key', 'City', 'State'])\n",
    "\n",
    "in_both = (pss.index.isin(jd_pss_1.ID)) | (pss.index.isin(jd_pss_2.ID))\n",
    "pss_only = pss[~in_both]\n",
    "print(pss_only.shape)"
   ]
  },
  {
   "cell_type": "markdown",
   "metadata": {},
   "source": [
    "# Extensive Cleaning/Exploration"
   ]
  },
  {
   "cell_type": "code",
   "execution_count": 12,
   "metadata": {
    "collapsed": true,
    "run_control": {
     "marked": false
    }
   },
   "outputs": [],
   "source": [
    "import sys\n",
    "import itertools as it\n",
    "import numpy as np\n",
    "import pandas as pd\n",
    "import matplotlib.pyplot as plt\n",
    "import seaborn as sns\n",
    "from IPython.display import display\n",
    "from collections import OrderedDict\n",
    "import re\n",
    "import pandas.util.testing as tm\n",
    "import pdb\n",
    "from glob import glob\n",
    "import logging\n",
    "from scipy.stats import distributions, probplot\n",
    "# tm.assert_frame_equal(result, X)\n",
    "\n",
    "from probplots import ProbPlots\n",
    "from pss import *\n",
    "\n",
    "%matplotlib inline\n",
    "\n",
    "# Make the graphs a bit prettier, and bigger\n",
    "plt.style.use('default')\n",
    "plt.rcParams['figure.figsize'] = (15, 5)\n",
    "plt.rcParams['font.family'] = 'sans-serif'\n",
    "\n",
    "pd.set_option('display.multi_sparse', True)\n",
    "pd.set_option('display.float_format', lambda x: '%.3f' % x)\n",
    "\n",
    "\n",
    "# TODO: explore pandas options\n",
    "\n",
    "SEED = 42\n",
    "\n",
    "def display_cb(df):\n",
    "    \"\"\"Displays Dataframe with long descriptions.\n",
    "    \n",
    "    Used for codebooks.\n",
    "    \"\"\"\n",
    "    with pd.option_context('max_colwidth', 1000):\n",
    "        display(df)\n",
    "        \n",
    "DATA_DIR    = '../Data/'\n",
    "SCRAPES_DIR = '../Scrapes'\n",
    "\n",
    "SCL_DIR  = ''.join([DATA_DIR, 'Schools/'])\n",
    "REL_DIR  = ''.join([DATA_DIR, 'Religion/'])\n",
    "DEM_DIR  = ''.join([DATA_DIR, 'Demography/'])\n",
    "\n",
    "TS_DIR = '/Users/mdlynch37/projects/coding/learning-math-and-stats/ThinkStats2/code'\n",
    "sys.path.append(TS_DIR)\n",
    "import thinkstats2\n",
    "import thinkplot"
   ]
  },
  {
   "cell_type": "markdown",
   "metadata": {
    "heading_collapsed": true,
    "hidden": true
   },
   "source": [
    "### Raw data"
   ]
  },
  {
   "cell_type": "code",
   "execution_count": 13,
   "metadata": {
    "collapsed": true,
    "hidden": true
   },
   "outputs": [],
   "source": [
    "PSS_RAW_DICT_FP = ''.join([SCL_DIR, 'pss_raw_dict.csv'])\n",
    "PSS_RAW_FP = ''.join([SCL_DIR, 'pss1112_pu.txt'])"
   ]
  },
  {
   "cell_type": "code",
   "execution_count": 14,
   "metadata": {
    "cell_style": "center",
    "hidden": true
   },
   "outputs": [
    {
     "data": {
      "text/html": [
       "<div>\n",
       "<table border=\"1\" class=\"dataframe\">\n",
       "  <thead>\n",
       "    <tr style=\"text-align: right;\">\n",
       "      <th></th>\n",
       "      <th>Pos</th>\n",
       "      <th>Var_Type</th>\n",
       "      <th>Len</th>\n",
       "      <th>Code</th>\n",
       "      <th>Label</th>\n",
       "      <th>QNum</th>\n",
       "    </tr>\n",
       "    <tr>\n",
       "      <th>Name</th>\n",
       "      <th></th>\n",
       "      <th></th>\n",
       "      <th></th>\n",
       "      <th></th>\n",
       "      <th></th>\n",
       "      <th></th>\n",
       "    </tr>\n",
       "  </thead>\n",
       "  <tbody>\n",
       "    <tr>\n",
       "      <th>P135</th>\n",
       "      <td>91</td>\n",
       "      <td>NUM</td>\n",
       "      <td>8</td>\n",
       "      <td>Q5A_GRD</td>\n",
       "      <td>5A Ungraded Offered</td>\n",
       "      <td>5</td>\n",
       "    </tr>\n",
       "    <tr>\n",
       "      <th>P140</th>\n",
       "      <td>92</td>\n",
       "      <td>NUM</td>\n",
       "      <td>8</td>\n",
       "      <td>Q5A_ENRL</td>\n",
       "      <td>5A Ungraded Enrollment</td>\n",
       "      <td>5</td>\n",
       "    </tr>\n",
       "    <tr>\n",
       "      <th>P145</th>\n",
       "      <td>93</td>\n",
       "      <td>NUM</td>\n",
       "      <td>8</td>\n",
       "      <td>Q5B_GRD</td>\n",
       "      <td>5B Nursery/Prekindergarten Offered</td>\n",
       "      <td>5</td>\n",
       "    </tr>\n",
       "    <tr>\n",
       "      <th>P150</th>\n",
       "      <td>94</td>\n",
       "      <td>NUM</td>\n",
       "      <td>8</td>\n",
       "      <td>Q5B_ENRL</td>\n",
       "      <td>5B Nursery/Prekindergarten Enrollment</td>\n",
       "      <td>5</td>\n",
       "    </tr>\n",
       "    <tr>\n",
       "      <th>P155</th>\n",
       "      <td>95</td>\n",
       "      <td>NUM</td>\n",
       "      <td>8</td>\n",
       "      <td>Q5C_GRD</td>\n",
       "      <td>5C Kindergarten Offered</td>\n",
       "      <td>5</td>\n",
       "    </tr>\n",
       "  </tbody>\n",
       "</table>\n",
       "</div>"
      ],
      "text/plain": [
       "      Pos Var_Type  Len      Code                                  Label QNum\n",
       "Name                                                                         \n",
       "P135   91      NUM    8   Q5A_GRD                    5A Ungraded Offered    5\n",
       "P140   92      NUM    8  Q5A_ENRL                 5A Ungraded Enrollment    5\n",
       "P145   93      NUM    8   Q5B_GRD     5B Nursery/Prekindergarten Offered    5\n",
       "P150   94      NUM    8  Q5B_ENRL  5B Nursery/Prekindergarten Enrollment    5\n",
       "P155   95      NUM    8   Q5C_GRD                5C Kindergarten Offered    5"
      ]
     },
     "execution_count": 14,
     "metadata": {},
     "output_type": "execute_result"
    }
   ],
   "source": [
    "pss_raw_dict_all = read_pss_raw_dict(PSS_RAW_DICT_FP)\n",
    "          \n",
    "are_resps = lambda df: df.Code.str.startswith('Q')\n",
    "pss_raw_dict_qs = pss_raw_dict_all.loc[are_resps, :]\n",
    "pss_raw_dict_qs.head()"
   ]
  },
  {
   "cell_type": "code",
   "execution_count": 15,
   "metadata": {
    "hidden": true
   },
   "outputs": [
    {
     "data": {
      "text/html": [
       "<div>\n",
       "<table border=\"1\" class=\"dataframe\">\n",
       "  <thead>\n",
       "    <tr style=\"text-align: right;\">\n",
       "      <th></th>\n",
       "      <th>PFNLWT</th>\n",
       "      <th>REPW1</th>\n",
       "      <th>REPW2</th>\n",
       "      <th>REPW3</th>\n",
       "      <th>REPW4</th>\n",
       "      <th>REPW5</th>\n",
       "      <th>REPW6</th>\n",
       "      <th>REPW7</th>\n",
       "      <th>REPW8</th>\n",
       "      <th>REPW9</th>\n",
       "      <th>...</th>\n",
       "      <th>F_P660</th>\n",
       "      <th>S_KG</th>\n",
       "      <th>P_INDIAN</th>\n",
       "      <th>P_ASIAN</th>\n",
       "      <th>P_PACIFIC</th>\n",
       "      <th>P_HISP</th>\n",
       "      <th>P_WHITE</th>\n",
       "      <th>P_BLACK</th>\n",
       "      <th>P_TR</th>\n",
       "      <th>STTCH_RT</th>\n",
       "    </tr>\n",
       "    <tr>\n",
       "      <th>ID</th>\n",
       "      <th></th>\n",
       "      <th></th>\n",
       "      <th></th>\n",
       "      <th></th>\n",
       "      <th></th>\n",
       "      <th></th>\n",
       "      <th></th>\n",
       "      <th></th>\n",
       "      <th></th>\n",
       "      <th></th>\n",
       "      <th></th>\n",
       "      <th></th>\n",
       "      <th></th>\n",
       "      <th></th>\n",
       "      <th></th>\n",
       "      <th></th>\n",
       "      <th></th>\n",
       "      <th></th>\n",
       "      <th></th>\n",
       "      <th></th>\n",
       "      <th></th>\n",
       "    </tr>\n",
       "  </thead>\n",
       "  <tbody>\n",
       "    <tr>\n",
       "      <th>A1192001</th>\n",
       "      <td>1.084</td>\n",
       "      <td>1.084</td>\n",
       "      <td>1.084</td>\n",
       "      <td>1.084</td>\n",
       "      <td>1.084</td>\n",
       "      <td>1.084</td>\n",
       "      <td>1.084</td>\n",
       "      <td>1.084</td>\n",
       "      <td>1.084</td>\n",
       "      <td>1.084</td>\n",
       "      <td>...</td>\n",
       "      <td>0</td>\n",
       "      <td>6</td>\n",
       "      <td>0.000</td>\n",
       "      <td>0.000</td>\n",
       "      <td>0.000</td>\n",
       "      <td>3.448</td>\n",
       "      <td>1.724</td>\n",
       "      <td>91.379</td>\n",
       "      <td>3.448</td>\n",
       "      <td>6.988</td>\n",
       "    </tr>\n",
       "    <tr>\n",
       "      <th>A1192003</th>\n",
       "      <td>1.049</td>\n",
       "      <td>1.049</td>\n",
       "      <td>1.049</td>\n",
       "      <td>1.049</td>\n",
       "      <td>1.049</td>\n",
       "      <td>1.049</td>\n",
       "      <td>1.049</td>\n",
       "      <td>1.049</td>\n",
       "      <td>1.049</td>\n",
       "      <td>1.049</td>\n",
       "      <td>...</td>\n",
       "      <td>0</td>\n",
       "      <td>14</td>\n",
       "      <td>0.000</td>\n",
       "      <td>0.000</td>\n",
       "      <td>0.000</td>\n",
       "      <td>0.000</td>\n",
       "      <td>0.000</td>\n",
       "      <td>100.000</td>\n",
       "      <td>0.000</td>\n",
       "      <td>6.869</td>\n",
       "    </tr>\n",
       "    <tr>\n",
       "      <th>BB120001</th>\n",
       "      <td>1.320</td>\n",
       "      <td>2.640</td>\n",
       "      <td>0.000</td>\n",
       "      <td>0.000</td>\n",
       "      <td>2.640</td>\n",
       "      <td>0.000</td>\n",
       "      <td>0.000</td>\n",
       "      <td>2.640</td>\n",
       "      <td>2.640</td>\n",
       "      <td>0.000</td>\n",
       "      <td>...</td>\n",
       "      <td>0</td>\n",
       "      <td>22</td>\n",
       "      <td>0.000</td>\n",
       "      <td>0.000</td>\n",
       "      <td>0.000</td>\n",
       "      <td>31.818</td>\n",
       "      <td>0.000</td>\n",
       "      <td>68.182</td>\n",
       "      <td>0.000</td>\n",
       "      <td>36.667</td>\n",
       "    </tr>\n",
       "    <tr>\n",
       "      <th>A0500002</th>\n",
       "      <td>1.000</td>\n",
       "      <td>1.000</td>\n",
       "      <td>1.000</td>\n",
       "      <td>1.000</td>\n",
       "      <td>1.000</td>\n",
       "      <td>1.000</td>\n",
       "      <td>1.000</td>\n",
       "      <td>1.000</td>\n",
       "      <td>1.000</td>\n",
       "      <td>1.000</td>\n",
       "      <td>...</td>\n",
       "      <td>0</td>\n",
       "      <td>2</td>\n",
       "      <td>0.000</td>\n",
       "      <td>0.000</td>\n",
       "      <td>0.000</td>\n",
       "      <td>0.000</td>\n",
       "      <td>91.111</td>\n",
       "      <td>8.889</td>\n",
       "      <td>0.000</td>\n",
       "      <td>11.250</td>\n",
       "    </tr>\n",
       "    <tr>\n",
       "      <th>00000769</th>\n",
       "      <td>1.147</td>\n",
       "      <td>1.147</td>\n",
       "      <td>1.147</td>\n",
       "      <td>1.147</td>\n",
       "      <td>1.147</td>\n",
       "      <td>1.147</td>\n",
       "      <td>1.147</td>\n",
       "      <td>1.147</td>\n",
       "      <td>1.147</td>\n",
       "      <td>1.147</td>\n",
       "      <td>...</td>\n",
       "      <td>0</td>\n",
       "      <td>45</td>\n",
       "      <td>0.000</td>\n",
       "      <td>1.107</td>\n",
       "      <td>0.000</td>\n",
       "      <td>1.476</td>\n",
       "      <td>82.657</td>\n",
       "      <td>12.177</td>\n",
       "      <td>2.583</td>\n",
       "      <td>10.586</td>\n",
       "    </tr>\n",
       "  </tbody>\n",
       "</table>\n",
       "<p>5 rows × 345 columns</p>\n",
       "</div>"
      ],
      "text/plain": [
       "          PFNLWT  REPW1  REPW2  REPW3  REPW4  REPW5  REPW6  REPW7  REPW8  \\\n",
       "ID                                                                         \n",
       "A1192001   1.084  1.084  1.084  1.084  1.084  1.084  1.084  1.084  1.084   \n",
       "A1192003   1.049  1.049  1.049  1.049  1.049  1.049  1.049  1.049  1.049   \n",
       "BB120001   1.320  2.640  0.000  0.000  2.640  0.000  0.000  2.640  2.640   \n",
       "A0500002   1.000  1.000  1.000  1.000  1.000  1.000  1.000  1.000  1.000   \n",
       "00000769   1.147  1.147  1.147  1.147  1.147  1.147  1.147  1.147  1.147   \n",
       "\n",
       "          REPW9    ...     F_P660  S_KG  P_INDIAN  P_ASIAN  P_PACIFIC  P_HISP  \\\n",
       "ID                 ...                                                          \n",
       "A1192001  1.084    ...          0     6     0.000    0.000      0.000   3.448   \n",
       "A1192003  1.049    ...          0    14     0.000    0.000      0.000   0.000   \n",
       "BB120001  0.000    ...          0    22     0.000    0.000      0.000  31.818   \n",
       "A0500002  1.000    ...          0     2     0.000    0.000      0.000   0.000   \n",
       "00000769  1.147    ...          0    45     0.000    1.107      0.000   1.476   \n",
       "\n",
       "          P_WHITE  P_BLACK  P_TR  STTCH_RT  \n",
       "ID                                          \n",
       "A1192001    1.724   91.379 3.448     6.988  \n",
       "A1192003    0.000  100.000 0.000     6.869  \n",
       "BB120001    0.000   68.182 0.000    36.667  \n",
       "A0500002   91.111    8.889 0.000    11.250  \n",
       "00000769   82.657   12.177 2.583    10.586  \n",
       "\n",
       "[5 rows x 345 columns]"
      ]
     },
     "execution_count": 15,
     "metadata": {},
     "output_type": "execute_result"
    }
   ],
   "source": [
    "pss_raw = read_pss_raw(PSS_RAW_FP)\n",
    "pss_raw.head()"
   ]
  },
  {
   "cell_type": "markdown",
   "metadata": {
    "heading_collapsed": true,
    "hidden": true
   },
   "source": [
    "### Table from online generator"
   ]
  },
  {
   "cell_type": "markdown",
   "metadata": {
    "hidden": true
   },
   "source": [
    "__Data retrieved from [NCES Table Generator][NCESTableGenerator] in csv format__\n",
    "\n",
    "- 2011-2012 data saved with generator, retrievable with Table ID 54242 from generator start page\n",
    "- 2009-2010 data saved with generator to Table ID 54245\n",
    "- All available fields selected for All 50 States + DC + Outlying Areas\n",
    "\n",
    "[NCESTableGenerator]:https://nces.ed.gov/ccd/elsi/tableGenerator.aspx"
   ]
  },
  {
   "cell_type": "code",
   "execution_count": 16,
   "metadata": {
    "collapsed": true,
    "hidden": true
   },
   "outputs": [],
   "source": [
    "PSS_FP = ''.join([SCL_DIR, 'ELSI_csv_export_6362018465286175957399.csv'])\n",
    "\n",
    "\n",
    "def list_keys(odict):\n",
    "        return list(odict.keys())\n",
    "\n",
    "def list_vals(odict):\n",
    "        return list(odict.values())\n",
    "    \n",
    "def inverse_dict(d):\n",
    "    return {val:key for key, val in d.items()}\n",
    "\n",
    "def add_to_pss_from_raw(df_table, df_raw, cols_odict, cols_to_add, codes_to_vals=None, append=True):\n",
    "    \"\"\"Include cols from raw data in table.\n",
    "    \n",
    "    Parameters\n",
    "    ----------\n",
    "    df_table : DataFrame\n",
    "    df_raw : DataFrame\n",
    "    cols_to_add : dict\n",
    "        New names mapped to originals selected to merge\n",
    "    codes_to_vals : dict mapping to dict\n",
    "        Specifies which cols (new names) with coded vals\n",
    "        to convert to meaningful vals like:\n",
    "        {col_name:{code:s}}\n",
    "        \n",
    "    Returns\n",
    "    -------\n",
    "    df : DataFrame, resulting table\n",
    "    \"\"\"\n",
    "    \n",
    "    cols_odict.update(cols_to_add)\n",
    "    left, right = df_table, df_raw[list_vals(cols_to_add)]\n",
    "    if not append:\n",
    "        left, right = right, left\n",
    "        for key in reversed(cols_to_add.keys()):\n",
    "            cols_odict.move_to_end(key, last=False)\n",
    "        \n",
    "    df = (pd.merge(left, right, left_index=True, right_index=True)\n",
    "          .rename(columns=inverse_dict(cols_to_add))\n",
    "         )\n",
    "    if codes_to_vals:\n",
    "        df = df.replace(codes_to_vals)\n",
    "\n",
    "    return df, cols_odict\n",
    "\n",
    "cols_to_add_left = OrderedDict([\n",
    "    ('Interview_Meth', 'CSOURCE'),\n",
    "    ('To_College', 'P360')\n",
    "])\n",
    "\n",
    "cols_to_add_right = OrderedDict([\n",
    "    ('No Associations', 'P450'),\n",
    "    ('National Society of Hebrew Day Schools', 'P515'),\n",
    "    ('The Jewish Community Day School Network', 'P522'),\n",
    "    ('Solomon Schechter Day Schools', 'P525'),\n",
    "    ('National Assn of Independent Schools', 'P620')\n",
    "])\n",
    "codes_to_vals = {\n",
    "    'Interview_Meth':{\n",
    "        1:'Mail',\n",
    "        2:'Internet',\n",
    "        3:'Regional Office follow-up',\n",
    "        4:'Robocall'  # computer-assisted telephone interview\n",
    "    }\n",
    "}\n",
    "\n",
    "\n",
    "# pss_df, pss_header, pss_footer = read_pss_table(PSS_FP)\n",
    "# pss_df, pss_cols = add_to_pss_from_raw(pss_df, pss_raw,\n",
    "#                                        cols_to_add_left, codes_to_vals, append=False)\n",
    "# pss_df, pss_cols = add_to_pss_from_raw(pss_df, pss_raw,\n",
    "#                                        cols_to_add_right, append=True)"
   ]
  },
  {
   "cell_type": "code",
   "execution_count": 17,
   "metadata": {
    "hidden": true
   },
   "outputs": [
    {
     "ename": "NameError",
     "evalue": "name 'pss_df' is not defined",
     "output_type": "error",
     "traceback": [
      "\u001b[0;31m---------------------------------------------------------------------------\u001b[0m",
      "\u001b[0;31mNameError\u001b[0m                                 Traceback (most recent call last)",
      "\u001b[0;32m<ipython-input-17-b9a34059cbd3>\u001b[0m in \u001b[0;36m<module>\u001b[0;34m()\u001b[0m\n\u001b[1;32m     18\u001b[0m }\n\u001b[1;32m     19\u001b[0m \u001b[0;34m\u001b[0m\u001b[0m\n\u001b[0;32m---> 20\u001b[0;31m \u001b[0mpss_df\u001b[0m\u001b[0;34m,\u001b[0m \u001b[0mpss_cols\u001b[0m \u001b[0;34m=\u001b[0m \u001b[0mdrop_pss_cols\u001b[0m\u001b[0;34m(\u001b[0m\u001b[0mpss_df\u001b[0m\u001b[0;34m,\u001b[0m \u001b[0mpss_cols\u001b[0m\u001b[0;34m,\u001b[0m \u001b[0mcols_to_drop\u001b[0m\u001b[0;34m)\u001b[0m\u001b[0;34m\u001b[0m\u001b[0m\n\u001b[0m\u001b[1;32m     21\u001b[0m \u001b[0;34m\u001b[0m\u001b[0m\n\u001b[1;32m     22\u001b[0m \u001b[0mprint\u001b[0m\u001b[0;34m(\u001b[0m\u001b[0mpss_header\u001b[0m\u001b[0;34m)\u001b[0m\u001b[0;34m\u001b[0m\u001b[0m\n",
      "\u001b[0;31mNameError\u001b[0m: name 'pss_df' is not defined"
     ]
    }
   ],
   "source": [
    "def drop_pss_cols(df_table, cols_odict, cols):\n",
    "    df_table = df_table.drop(cols, axis=1)\n",
    "    for col in cols:\n",
    "        cols_odict.pop(col)\n",
    "    \n",
    "    return df_table, cols_odict\n",
    "    \n",
    "cols_to_drop = {\n",
    "    'Name_shorter',\n",
    "    'State2',\n",
    "    'State3',\n",
    "    'Total_Students_Excl_PK',\n",
    "    'Zip4',\n",
    "    'Zip_Full',\n",
    "    'Phone',\n",
    "    'Lowest_Gr',\n",
    "    'Highest_Gr'\n",
    "}\n",
    "\n",
    "pss_df, pss_cols = drop_pss_cols(pss_df, pss_cols, cols_to_drop)\n",
    "\n",
    "print(pss_header)\n",
    "display(pss_df.shape)\n",
    "display(pss_df.head(3))\n",
    "print(pss_footer)"
   ]
  },
  {
   "cell_type": "markdown",
   "metadata": {
    "hidden": true
   },
   "source": [
    "Reorder cols..."
   ]
  },
  {
   "cell_type": "markdown",
   "metadata": {
    "hidden": true
   },
   "source": [
    "Get target population..."
   ]
  },
  {
   "cell_type": "code",
   "execution_count": null,
   "metadata": {
    "collapsed": true,
    "hidden": true
   },
   "outputs": [],
   "source": [
    "pss_j = (pss_df.loc[pss_df.Religion=='Jewish', :]\n",
    "         .drop(['Religion', 'Orientation'], axis=1)\n",
    ")\n",
    "pss_raw_j = pss_raw.loc[pss_raw['P440']==18, :]\n",
    "\n",
    "print('No. Jewish schools: {}'.format(pss_j.shape[0]))\n",
    "print('No. states with Jewish schools: {}'.format(len(pss_j.State.unique())))\n",
    "display(pss_j.State.value_counts().head())"
   ]
  },
  {
   "cell_type": "markdown",
   "metadata": {
    "hidden": true
   },
   "source": [
    "#### Add and Clean Association memberships"
   ]
  },
  {
   "cell_type": "code",
   "execution_count": null,
   "metadata": {
    "code_folding": [],
    "collapsed": true,
    "hidden": true
   },
   "outputs": [],
   "source": [
    "def plt_assc_overlap(assc_lbls, df_raw, df_raw_dict):\n",
    "\n",
    "    assc_data = (df_raw.loc[:, assc_lbls]\n",
    "                .rename(columns=\n",
    "                        df_raw_dict.Label.str.strip('15 ').to_dict())\n",
    "                )\n",
    "\n",
    "    nrows  = int(-(-assc_data.shape[1]//2))  # quick ciel division\n",
    "#     pdb.set_trace()\n",
    "    fig, axes = plt.subplots(nrows=nrows, ncols=2, figsize=(15, 50), sharex=True, sharey=True)\n",
    "\n",
    "    def zero_assc(ser, assc):\n",
    "        ser[assc] = 0\n",
    "        return ser\n",
    "    \n",
    "    for i, assc in enumerate(assc_data.columns):\n",
    "        _ = (assc_data.loc[assc_data[assc]==1, :]\n",
    "             .sum()\n",
    "             .pipe(zero_assc, assc)\n",
    "             .plot(kind='barh', ax=axes[i//2][i%2], title=''.join(\n",
    "                 [assc, ' (', str(assc_data[assc].sum()), ')']))\n",
    "            )\n",
    "    plt.tight_layout()\n",
    "    plt.show()\n",
    "\n",
    "\n",
    "assc_qs = pss_raw_dict_qs.loc[pss_raw_dict_qs.QNum=='15', :]\n",
    "cnt_asscs = (pss_raw_j\n",
    "             .loc[:, assc_qs.index]\n",
    "             .sum(0)\n",
    "             .rename('N'))\n",
    "\n",
    "assc_ls = (assc_qs[cnt_asscs > 0]\n",
    "           .join(cnt_asscs)\n",
    "           .sort_values('N', ascending=False))\n",
    "\n",
    "if False:\n",
    "    plt_assc_overlap(assc_ls.index, pss_raw_j, pss_raw_dict_qs)"
   ]
  },
  {
   "cell_type": "markdown",
   "metadata": {
    "hidden": true
   },
   "source": [
    "#### Clean `Locale` and  `Community` "
   ]
  },
  {
   "cell_type": "code",
   "execution_count": null,
   "metadata": {
    "collapsed": true,
    "hidden": true
   },
   "outputs": [],
   "source": [
    "def to_categorical(col):\n",
    "    \n",
    "    if not col.dtype.name == 'category':\n",
    "        col = (col.str.extract(r'\\d+-(\\w+)', expand=False)\n",
    "               .astype('category'))\n",
    "        \n",
    "    return col"
   ]
  },
  {
   "cell_type": "code",
   "execution_count": null,
   "metadata": {
    "collapsed": true,
    "hidden": true
   },
   "outputs": [],
   "source": [
    "pss_j['Community'] = to_categorical(pss_j['Community'])\n",
    "\n",
    "display(pss_j.Community.value_counts(dropna=False))\n",
    "display(pss_j.Locale.value_counts(dropna=False))\n",
    "\n",
    "assert not pss_j.Community.isnull().any(), 'Community vals need filling!'\n",
    "assert not pss_j.Locale.isnull().any(), 'Locale vals need filling!'\n",
    "\n",
    "pss_j = pss_j.drop('Locale', axis=1)"
   ]
  },
  {
   "cell_type": "markdown",
   "metadata": {
    "hidden": true
   },
   "source": [
    "#### Clean `Levels`, `Type_` and `Coed`"
   ]
  },
  {
   "cell_type": "code",
   "execution_count": null,
   "metadata": {
    "collapsed": true,
    "hidden": true
   },
   "outputs": [],
   "source": [
    "pss_j['Level']  = to_categorical(pss_j['Level'])\n",
    "pss_j.Level.value_counts(dropna=True)"
   ]
  },
  {
   "cell_type": "code",
   "execution_count": null,
   "metadata": {
    "collapsed": true,
    "hidden": true
   },
   "outputs": [],
   "source": [
    "# imputed by inspection\n",
    "fills = {\n",
    "    'Level': {\n",
    "        'A9104292':'Elementary',\n",
    "        '00087434':'Elementary',\n",
    "        '01900102':'Combined',\n",
    "        'A0108086':'Elementary'\n",
    "    },\n",
    "    'Type_': {\n",
    "        'A0501613':'1-Regular Elementary or Secondary',\n",
    "        'A1101672':'1-Regular Elementary or Secondary'\n",
    "    },\n",
    "    'Coed': {\n",
    "        'BB121609':'1-Coed (school has male and female students)',\n",
    "        'BB040270':'1-Coed (school has male and female students)'\n",
    "    }\n",
    "        }\n",
    "         \n",
    "for feat, vals in fills.items():\n",
    "    for ID, val in vals.items():\n",
    "        pss_j.loc[ID, feat] = val\n",
    "\n",
    "have_null = pss_j.loc[:, ['Level', 'Type_', 'Coed']].isnull().any(1)\n",
    "assert not have_null.any(), 'Fills for Level, Type_ and Coed not complete!'"
   ]
  },
  {
   "cell_type": "markdown",
   "metadata": {
    "hidden": true
   },
   "source": [
    "#### Remove duplicate schools"
   ]
  },
  {
   "cell_type": "code",
   "execution_count": null,
   "metadata": {
    "collapsed": true,
    "hidden": true
   },
   "outputs": [],
   "source": [
    "# check dupes, same address, city, state\n",
    "pss_dupe_addr = pss_j[pss_j[['Addr', 'City', 'County', 'State']]\n",
    "                      .duplicated(keep=False)]\n",
    "print('{} schools share the same address, before deduping.'.format(pss_dupe_addr.shape[0]))\n",
    "\n",
    "# Display for manual inspection\n",
    "if False:\n",
    "    display(pss_dupe_addr.sort_values(\n",
    "        ['State', 'County', 'City', 'Addr']).loc[:,:].T\n",
    "           )\n",
    "# clearly duplicate from looking at different defs of dupes\n",
    "dupes_to_drop = [\n",
    "    'BB980701', 'BB121352', 'BB121671', 'A0302192', 'A9104913', 'BB121497', \n",
    "    'BB121621', 'BB000817', 'A0302192', 'BB121831', 'BB121771'\n",
    "]\n",
    "\n",
    "pss_j = pss_j.drop(dupes_to_drop)\n",
    "print('{} schools share the same address, after first deduping.'.format(pss_dupe_addr.shape[0] - len(dupes_to_drop)))"
   ]
  },
  {
   "cell_type": "code",
   "execution_count": null,
   "metadata": {
    "collapsed": true,
    "hidden": true
   },
   "outputs": [],
   "source": [
    "# check dupes, same name different address only\n",
    "pss_dupe_name = pss_j[pss_j[['Name', 'City']].duplicated(keep=False)]\n",
    "print('{} schools share the name and state.'.format(pss_dupe_name.shape[0]))\n",
    "\n",
    "if False:\n",
    "    display(pss_dupe_name.sort_values(['Name', 'City']).loc[:,:].T)"
   ]
  },
  {
   "cell_type": "markdown",
   "metadata": {
    "hidden": true
   },
   "source": [
    "#### Clean Student Counts"
   ]
  },
  {
   "cell_type": "code",
   "execution_count": null,
   "metadata": {
    "collapsed": true,
    "hidden": true
   },
   "outputs": [],
   "source": [
    "pss_j.columns"
   ]
  },
  {
   "cell_type": "code",
   "execution_count": null,
   "metadata": {
    "collapsed": true,
    "hidden": true,
    "scrolled": true
   },
   "outputs": [],
   "source": [
    "# numbers add up for subtotals\n",
    "df_temp = pss_j.loc[:, 'Total_Students':'12_Gr'].fillna(0)\n",
    "assert (df_temp['PK-K'] == df_temp.loc[:, 'PK_Gr':'K_Gr'].sum(1)).all()\n",
    "assert (df_temp['Gr1-8'] == df_temp.loc[:, '1_Gr':'8_Gr'].sum(1)).all()\n",
    "assert (df_temp['Gr9-12'] == df_temp.loc[:, '9_Gr':'12_Gr'].sum(1)).all()"
   ]
  },
  {
   "cell_type": "code",
   "execution_count": null,
   "metadata": {
    "collapsed": true,
    "hidden": true
   },
   "outputs": [],
   "source": [
    "sub_gr_totals   = pss_j.loc[:, 'PK-K':'Gr9-12'].sum(1)\n",
    "valid_gr_tot    = sub_gr_totals == pss_j.Total_Students\n",
    "\n",
    "print('{} records with grade inconsistencies.'\n",
    "      .format(pss_j[~valid_gr_tot].shape[0]))"
   ]
  },
  {
   "cell_type": "code",
   "execution_count": null,
   "metadata": {
    "collapsed": true,
    "hidden": true
   },
   "outputs": [],
   "source": [
    "sub_gr_totals['00087434']"
   ]
  },
  {
   "cell_type": "code",
   "execution_count": null,
   "metadata": {
    "collapsed": true,
    "hidden": true
   },
   "outputs": [],
   "source": [
    "if False:\n",
    "    display(pss_j[~valid_gr_tot].T)"
   ]
  },
  {
   "cell_type": "code",
   "execution_count": null,
   "metadata": {
    "collapsed": true,
    "hidden": true
   },
   "outputs": [],
   "source": [
    "# p = pss_j.copy()"
   ]
  },
  {
   "cell_type": "code",
   "execution_count": null,
   "metadata": {
    "collapsed": true,
    "hidden": true
   },
   "outputs": [],
   "source": [
    "# switched to False when no need to inspect\n",
    "if False:\n",
    "    \n",
    "    df = pss_j[~valid_gr_tot]\n",
    "    diff_col = 'diff------------>'\n",
    "\n",
    "    parts = [df.loc[:, :'Total_Students']]\n",
    "    parts.append(pd.DataFrame(sub_gr_totals[~valid_gr_tot], \n",
    "                              columns=['Sub_Gr_Totals']))\n",
    "    parts.append(pd.DataFrame(df.Total_Students - sub_gr_totals[~valid_gr_tot], \n",
    "                              columns=[diff_col]))\n",
    "    parts.append(df.loc[:, 'PK-K':'12_Gr'])\n",
    "\n",
    "    display(pd.concat(parts, axis=1, verify_integrity=True\n",
    "                     ).sort_values(diff_col, ascending=True).T)\n",
    "    \n",
    "    \n",
    "# fill empty grand totals with sum of sub totals\n",
    "pss_j['Total_Students'] = \\\n",
    "        pss_j.Total_Students.mask(lambda x: (x==0) | (x.isnull()), sub_gr_totals)"
   ]
  },
  {
   "cell_type": "code",
   "execution_count": null,
   "metadata": {
    "collapsed": true,
    "hidden": true
   },
   "outputs": [],
   "source": [
    "pss_j = pss_j.drop(pss_j.loc[:, 'PK-K':'Ungraded'].columns, axis=1)"
   ]
  },
  {
   "cell_type": "code",
   "execution_count": null,
   "metadata": {
    "collapsed": true,
    "hidden": true
   },
   "outputs": [],
   "source": [
    "pss_j.columns"
   ]
  },
  {
   "cell_type": "code",
   "execution_count": null,
   "metadata": {
    "collapsed": true,
    "hidden": true
   },
   "outputs": [],
   "source": [
    "probplots = ProbPlots(pss_j.Total_Students)\n",
    "probplots.plot_probplot(dist_name='expon')"
   ]
  },
  {
   "cell_type": "code",
   "execution_count": null,
   "metadata": {
    "collapsed": true,
    "hidden": true
   },
   "outputs": [],
   "source": [
    "probplots.plot_probplot(dist_name='lognorm')"
   ]
  },
  {
   "cell_type": "code",
   "execution_count": null,
   "metadata": {
    "collapsed": true,
    "hidden": true
   },
   "outputs": [],
   "source": [
    "probplots = ProbPlots(np.log(pss_j.Total_Students))\n",
    "probplots.plot_probplot(dist_name='norm')"
   ]
  },
  {
   "cell_type": "markdown",
   "metadata": {
    "hidden": true
   },
   "source": [
    "#### Clean Race Counts"
   ]
  },
  {
   "cell_type": "code",
   "execution_count": null,
   "metadata": {
    "collapsed": true,
    "hidden": true
   },
   "outputs": [],
   "source": [
    "def sum_non_white_cols(df, insert_before='Amer_Ind_No'):\n",
    "    \"\"\"Return DataFrame with non-white aggregate columns.\n",
    "    \n",
    "    Parameters\n",
    "    ----------\n",
    "    df : DataFrame\n",
    "    insert_before : str\n",
    "        Specifies where to insert new columns.\n",
    "\n",
    "    \"\"\"\n",
    "    # in case function has been called prior\n",
    "    df = df.loc[:, ~df.columns.isin(['NonWhite_No', 'NonWhite_Pc'])]\n",
    "    \n",
    "    cols = df.columns.sort_values()\n",
    "    Ps = [col for col in cols if col.endswith('_Pc') and col!='White_Pc']\n",
    "    Ns = [col for col in cols if col.endswith('_No') and col!='White_No']\n",
    "    \n",
    "    assert all([n[:-2]==p[:-2] for n, p in zip(Ps, Ns)]), (\n",
    "            'Name or number mismatch between _No cols and _Pc cols.')\n",
    "\n",
    "    nw_no    = df.loc[:, Ns].sum(1)\n",
    "    nw_perc =  nw_no/df.Total_Students*100 \n",
    "    \n",
    "    new_cols = pd.DataFrame(\n",
    "        [nw_no, nw_perc], index=['NonWhite_No', 'NonWhite_Pc']).T\n",
    "\n",
    "    idx_insert = df.columns.get_loc(insert_before)\n",
    "    df = pd.concat([\n",
    "        df.iloc[:, :idx_insert],\n",
    "        new_cols,\n",
    "        df.iloc[:, idx_insert:]], axis=1)\n",
    "    \n",
    "    return df\n"
   ]
  },
  {
   "cell_type": "code",
   "execution_count": null,
   "metadata": {
    "collapsed": true,
    "hidden": true
   },
   "outputs": [],
   "source": [
    "pss_j = sum_non_white_cols(pss_j)\n",
    "\n",
    "r_detail_tots = pss_j.NonWhite_No+pss_j.White_No\n",
    "\n",
    "print('{} records have no race data.'\n",
    "      .format((r_detail_tots==0).sum()))\n",
    "print('{} schools have data on non-white students.'\n",
    "      .format((pss_j.NonWhite_No>0).sum()))\n",
    "print('')\n",
    "print('{} records with valid race breakdowns.'\n",
    "      .format((r_detail_tots==pss_j.Total_Students).sum()))\n",
    "print('{} of these have nonwhite race data.'\n",
    "      .format(((r_detail_tots==pss_j.Total_Students) & \n",
    "               (pss_j.NonWhite_No>0)).sum()))\n",
    "print('')\n",
    "print('{} records with only white race data.'\n",
    "      .format(((pss_j.NonWhite_No==0) & (pss_j.White_No>0)).sum()))\n",
    "print('{} records with only nonwhite race data.'\n",
    "      .format(((pss_j.NonWhite_No>0) & (pss_j.White_No==0)).sum()))\n",
    "print('')\n",
    "print('{} records with race sum inconsistencies.'\n",
    "      .format((pss_j.NonWhite_No+pss_j.White_No!=pss_j.Total_Students).sum()))\n",
    "\n",
    "\n",
    "if False:\n",
    "    display(pss_j.sort_values('NonWhite_Pc', ascending=False).iloc[20:, :].T)  \n"
   ]
  },
  {
   "cell_type": "code",
   "execution_count": null,
   "metadata": {
    "collapsed": true,
    "hidden": true
   },
   "outputs": [],
   "source": [
    "pss_j = sum_non_white_cols(pss_j)\n",
    "\n",
    "r_detail_tots = pss_j.NonWhite_No+pss_j.White_No\n",
    "\n",
    "print('{} records have no race data.'\n",
    "      .format((r_detail_tots==0).sum()))\n",
    "print('{} schools have data on non-white students.'\n",
    "      .format((pss_j.NonWhite_No>0).sum()))\n",
    "print('')\n",
    "print('{} records with valid race breakdowns.'\n",
    "      .format((r_detail_tots==pss_j.Total_Students).sum()))\n",
    "print('{} of these have nonwhite race data.'\n",
    "      .format(((r_detail_tots==pss_j.Total_Students) & \n",
    "               (pss_j.NonWhite_No>0)).sum()))\n",
    "print('')\n",
    "print('{} records with only white race data.'\n",
    "      .format(((pss_j.NonWhite_No==0) & (pss_j.White_No>0)).sum()))\n",
    "print('{} records with only nonwhite race data.'\n",
    "      .format(((pss_j.NonWhite_No>0) & (pss_j.White_No==0)).sum()))\n",
    "print('')\n",
    "print('{} records with race sum inconsistencies.'\n",
    "      .format((pss_j.NonWhite_No+pss_j.White_No!=pss_j.Total_Students).sum()))\n",
    "\n",
    "\n",
    "if False:\n",
    "    display(pss_j.sort_values('NonWhite_Pc', ascending=False).iloc[20:, :].T)  \n"
   ]
  },
  {
   "cell_type": "code",
   "execution_count": null,
   "metadata": {
    "collapsed": true,
    "hidden": true,
    "run_control": {
     "marked": false
    }
   },
   "outputs": [],
   "source": [
    "fig, (ax1, ax2) = plt.subplots(1, 2, figsize=(18,5))\n",
    "\n",
    "_ = (pss_j.loc[:, ['NonWhite_Pc']]\n",
    "     .assign(Bdown_Tot_Pc=(pss_j.NonWhite_No+pss_j.White_No)/pss_j.Total_Students*100)\n",
    "     .sort_values('NonWhite_Pc')\n",
    "     .sort_values('Bdown_Tot_Pc', kind='mergesort')  # for stable sort\n",
    "     .plot(ax=ax1, title='% of total students')\n",
    "    )\n",
    "\n",
    "_ = (pss_j.loc[:, ['NonWhite_Pc', 'Total_Students']]\n",
    "     .assign(tot_sub_race=pss_j.NonWhite_No+pss_j.White_No)\n",
    "     .sort_values('NonWhite_Pc')\n",
    "     .query('tot_sub_race == Total_Students')\n",
    "     .plot(y='NonWhite_Pc', ax=ax2, title='% nonwhite in consistent records')\n",
    "    )\n",
    "\n",
    "plt.tight_layout()\n",
    "plt.show()\n"
   ]
  },
  {
   "cell_type": "code",
   "execution_count": null,
   "metadata": {
    "collapsed": true,
    "hidden": true
   },
   "outputs": [],
   "source": [
    "sns.distplot(np.log(pss_j.NonWhite_Pc).replace(float('-inf'), 0), hist_kws=dict(align='left'))"
   ]
  },
  {
   "cell_type": "code",
   "execution_count": null,
   "metadata": {
    "collapsed": true,
    "hidden": true
   },
   "outputs": [],
   "source": [
    "probplots = ProbPlots(pss_j.NonWhite_Pc)\n",
    "probplots.plot_probplot(dist_name='pareto')"
   ]
  },
  {
   "cell_type": "code",
   "execution_count": null,
   "metadata": {
    "collapsed": true,
    "hidden": true
   },
   "outputs": [],
   "source": [
    "sns.distplot(pss_j.NonWhite_Pc, hist_kws=dict(align='left'))"
   ]
  },
  {
   "cell_type": "code",
   "execution_count": null,
   "metadata": {
    "collapsed": true,
    "hidden": true
   },
   "outputs": [],
   "source": [
    "race_imps = pss_raw_j.loc[:, 'F_P320':'F_P332']\n",
    "im_cols = {\n",
    "    'F_P310':'Im_AmerInd', 'F_P316':'Im_Asian', 'F_P318':'Im_Hawai',\n",
    "    'F_P320':'Im_Hisp', 'F_P325':'Im_Black', 'F_P330':'Im_White',\n",
    "    'F_P332':'Im_Multi'}\n",
    "\n",
    "if False:\n",
    "    display(pss_j\n",
    "            .merge(race_imps[race_imps.sum(1)>0],\n",
    "                   left_index=True, right_index=True)\n",
    "            .rename(columns=im_cols)\n",
    "            .sort_values('NonWhite_No', ascending=False)\n",
    "            .T)"
   ]
  },
  {
   "cell_type": "markdown",
   "metadata": {
    "hidden": true
   },
   "source": [
    "No evidence of raw race data being changed/imputed."
   ]
  },
  {
   "cell_type": "code",
   "execution_count": null,
   "metadata": {
    "collapsed": true,
    "hidden": true
   },
   "outputs": [],
   "source": [
    "if False:\n",
    "    display(pss_j.query('NonWhite_Pc > 10').sort_values('NonWhite_Pc', ascending=False).T)"
   ]
  },
  {
   "cell_type": "code",
   "execution_count": null,
   "metadata": {
    "collapsed": true,
    "hidden": true
   },
   "outputs": [],
   "source": [
    "IDs_to_drop = ['00940306', 'A1192056', 'A1100834', 'A1100012']  # closed or not jewish\n",
    "pss_j = pss_j.loc[~pss_j.index.isin(IDs_to_drop)]\n",
    "\n",
    "multi_to_wh = ['00078758', 'AA890059', 'A0302252', 'A9100648']\n",
    "\n",
    "pss_j.loc[pss_j.index.isin(multi_to_wh), 'White_No'] = \\\n",
    "    pss_j.loc[pss_j.index.isin(multi_to_wh), 'Multi_No']\n",
    "\n",
    "pss_j.loc[pss_j.index.isin(multi_to_wh), 'Multi_No'] = 0\n",
    "\n",
    "all_ind_err = ['A9105127']\n",
    "\n",
    "pss_j.loc['A9105127', 'Amer_Ind_No':'Multi_Pc'] = 0\n",
    "\n",
    "clear_then_imp  = [  # maybe\n",
    "    'A0307781', 'A0302232', 'A1102245', '00080304', 'A1101443',\n",
    "    'K9301027', '00935872', '00646064', 'BB100145']\n",
    "\n",
    "pss_j = sum_non_white_cols(pss_j)"
   ]
  },
  {
   "cell_type": "code",
   "execution_count": null,
   "metadata": {
    "collapsed": true,
    "hidden": true
   },
   "outputs": [],
   "source": [
    "plt.figure(figsize=(12, 8))\n",
    "(pss_j[['Total_Students', 'NonWhite_No', 'NonWhite_Pc', 'Solomon Schechter Day Schools']]\n",
    " .pipe((sns.boxplot, 'data'), x='NonWhite_Pc', y='Solomon Schechter Day Schools', orient='h'))\n",
    "sns.despine()\n",
    "\n",
    "plt.tight_layout()\n",
    "plt.show()"
   ]
  },
  {
   "cell_type": "code",
   "execution_count": null,
   "metadata": {
    "collapsed": true,
    "hidden": true
   },
   "outputs": [],
   "source": [
    "probplots = ProbPlots(pss_j.NonWhite_Pc)\n",
    "probplots.plot_probplot(dist_name='pareto')"
   ]
  },
  {
   "cell_type": "markdown",
   "metadata": {
    "hidden": true
   },
   "source": [
    "Start with `Student_Totals`..."
   ]
  },
  {
   "cell_type": "code",
   "execution_count": null,
   "metadata": {
    "collapsed": true,
    "hidden": true
   },
   "outputs": [],
   "source": [
    "# def is_outlier(col, p=1.5):\n",
    "#     q3 = col.quantile(.75)\n",
    "#     q1 = col.quantile(.25)\n",
    "#     lo = q1 - (q3 - q1)*p\n",
    "#     hi = q3 + (q3 - q1)*p\n",
    "    \n",
    "#     return (col < lo) | (col > hi)\n",
    "\n",
    "# g = pss_j.groupby('Community')\n",
    "# x = g.Total_Students.apply(is_outlier, p=1.5)\n",
    "# # pss_j[x].T"
   ]
  },
  {
   "cell_type": "markdown",
   "metadata": {
    "hidden": true
   },
   "source": [
    "Totals are taken care of!"
   ]
  },
  {
   "cell_type": "markdown",
   "metadata": {
    "heading_collapsed": true,
    "hidden": true
   },
   "source": [
    "### Impute missing/outlying values"
   ]
  },
  {
   "cell_type": "markdown",
   "metadata": {
    "hidden": true
   },
   "source": [
    "Manually fill-in important fields with few instances of missing values."
   ]
  },
  {
   "cell_type": "code",
   "execution_count": null,
   "metadata": {
    "collapsed": true,
    "hidden": true
   },
   "outputs": [],
   "source": [
    "pss_j.Student_Teach_Ratio.describe()"
   ]
  },
  {
   "cell_type": "code",
   "execution_count": null,
   "metadata": {
    "collapsed": true,
    "hidden": true
   },
   "outputs": [],
   "source": [
    "# cond = pss_j.Student_Teach_Ratio < 80\n",
    "sns.distplot(pss_j.Student_Teach_Ratio.dropna())"
   ]
  },
  {
   "cell_type": "code",
   "execution_count": null,
   "metadata": {
    "collapsed": true,
    "hidden": true
   },
   "outputs": [],
   "source": [
    "# pss_j.Student_Teach_Ratio = c"
   ]
  },
  {
   "cell_type": "code",
   "execution_count": null,
   "metadata": {
    "collapsed": true,
    "hidden": true
   },
   "outputs": [],
   "source": [
    "min_ = 2\n",
    "max_ = 80\n",
    "col = pss_j.Student_Teach_Ratio\n",
    "cond = (col<min_) | (col>max_)\n",
    "pss_j.loc[cond ,'Student_Teach_Ratio'] = col.median()"
   ]
  },
  {
   "cell_type": "code",
   "execution_count": null,
   "metadata": {
    "collapsed": true,
    "hidden": true
   },
   "outputs": [],
   "source": [
    "sns.boxplot(pss_j.Student_Teach_Ratio)"
   ]
  },
  {
   "cell_type": "code",
   "execution_count": null,
   "metadata": {
    "collapsed": true,
    "hidden": true
   },
   "outputs": [],
   "source": [
    "pss_j.info()"
   ]
  },
  {
   "cell_type": "markdown",
   "metadata": {
    "heading_collapsed": true,
    "hidden": true
   },
   "source": [
    "### Percent to college"
   ]
  },
  {
   "cell_type": "code",
   "execution_count": null,
   "metadata": {
    "collapsed": true,
    "hidden": true
   },
   "outputs": [],
   "source": [
    "bins = np.arange(0,101, 20)\n",
    "indices = np.digitize(pss_j.To_College, bins, right=True)\n",
    "groups = pss_j.To_College.groupby(indices)\n",
    "\n",
    "groups.count()"
   ]
  },
  {
   "cell_type": "code",
   "execution_count": null,
   "metadata": {
    "collapsed": true,
    "hidden": true
   },
   "outputs": [],
   "source": [
    "df = pss_j.replace({'To_College':{0.:np.nan}})\n",
    "df.loc[df.To_College<5, 'To_College'] = np.nan\n",
    "sns.boxplot(x='Type_', y='To_College', data=df[df.Level!='Elementary'])"
   ]
  },
  {
   "cell_type": "code",
   "execution_count": null,
   "metadata": {
    "collapsed": true,
    "hidden": true
   },
   "outputs": [],
   "source": [
    "sns.distplot(df.To_College.dropna())"
   ]
  },
  {
   "cell_type": "code",
   "execution_count": null,
   "metadata": {
    "collapsed": true,
    "hidden": true
   },
   "outputs": [],
   "source": [
    "pss_j.T"
   ]
  },
  {
   "cell_type": "code",
   "execution_count": null,
   "metadata": {
    "collapsed": true,
    "hidden": true
   },
   "outputs": [],
   "source": [
    "# grade_feats = ['PK-K', 'Gr1-8', 'Gr9-12', 'Ungraded']\n",
    "# # pss_j[grade_feats] = pss_j[grade_feats].fillna(0)\n",
    "\n",
    "# assert (pss_j.Total_Students == pss_j[grade_feats].fillna(0).sum(1)).all()"
   ]
  },
  {
   "cell_type": "code",
   "execution_count": null,
   "metadata": {
    "collapsed": true,
    "hidden": true
   },
   "outputs": [],
   "source": [
    "# cat_feats = ['Library', 'Locale', 'Coed', 'Type', 'Level', 'Community']\n",
    "# pss_j[cat_feats] = to_categoricals(pss_j[cat_feats])\n",
    "\n",
    "# pss_j[cat_feats] = fillna_cats(pss_j[cat_feats])"
   ]
  }
 ],
 "metadata": {
  "anaconda-cloud": {},
  "kernelspec": {
   "display_name": "Python [conda env:py3]",
   "language": "python",
   "name": "conda-env-py3-py"
  },
  "language_info": {
   "codemirror_mode": {
    "name": "ipython",
    "version": 3
   },
   "file_extension": ".py",
   "mimetype": "text/x-python",
   "name": "python",
   "nbconvert_exporter": "python",
   "pygments_lexer": "ipython3",
   "version": "3.5.3"
  },
  "nav_menu": {
   "height": "313px",
   "width": "230px"
  },
  "toc": {
   "navigate_menu": true,
   "number_sections": false,
   "sideBar": true,
   "threshold": 6,
   "toc_cell": false,
   "toc_section_display": "block",
   "toc_window_display": false
  }
 },
 "nbformat": 4,
 "nbformat_minor": 2
}
