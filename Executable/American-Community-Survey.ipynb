{
 "cells": [
  {
   "cell_type": "markdown",
   "metadata": {},
   "source": [
    "# American Community Survey (ACS)"
   ]
  },
  {
   "cell_type": "code",
   "execution_count": 1,
   "metadata": {},
   "outputs": [],
   "source": [
    "from probplots import plot_dists_pps\n",
    "\n",
    "from collections import OrderedDict\n",
    "from imp import reload\n",
    "import pdb\n",
    "import random\n",
    "\n",
    "import matplotlib.pyplot as plt\n",
    "import pandas as pd\n",
    "import seaborn as sns\n",
    "import numpy as np\n",
    "from IPython.display import SVG, display\n",
    "\n",
    "from hud_geo_conversions import read_zips_to_fips\n",
    "from map_maker import draw_county_data_svg\n",
    "from utilities import (display_cb, is_outlier_instance, is_outlier_val,\n",
    "                       boxcox_standardize, read_fips_codes)\n",
    "from probplots import ProbPlots, plot_dists_pps\n",
    "\n",
    "\n",
    "\n",
    "from ajpp import read_ajpp_geo, read_ajpp_pop\n",
    "import jdata\n",
    "from jewish_county_data import read_jdata_counties, clean_jdata_county\n",
    "# from acs import read_acs_israeli_ancestry\n",
    "from religion_census import read_all_denoms, read_cb, read_judaic_denoms\n",
    "\n",
    "\n",
    "\n",
    "\n",
    "pd.set_option('display.float_format', lambda x: '%.3f' % x)\n",
    "from sklearn.decomposition import PCA\n",
    "\n",
    "%matplotlib inline\n",
    "\n",
    "SEED = 42\n",
    "random.seed(SEED)"
   ]
  },
  {
   "cell_type": "code",
   "execution_count": 2,
   "metadata": {},
   "outputs": [],
   "source": [
    "DATA_DIR    = '../Data/'\n",
    "IMG_DIR = '../Images/'\n",
    "DEM_DIR = ''.join([DATA_DIR, 'Demography/'])\n",
    "\n",
    "\n",
    "\n",
    "POP_FP           = ''.join([DEM_DIR, 'ACS_15_5YR_B01003/',\n",
    "                                         'ACS_15_5YR_B01003_with_ann.csv'])\n",
    "ACS_FOREIGN_BIRTH_FP = ''.join([DEM_DIR, 'ACS_15_5YR_B05006/', \n",
    "                                         'ACS_15_5YR_B05006_with_ann.csv'])\n",
    "SNGL_ANCE_FP = ''.join([DEM_DIR, 'ACS_15_5YR_B04004/',\n",
    "                                         'ACS_15_5YR_B04004_with_ann.csv'])\n",
    "MULT_ANCE_FP = ''.join([DEM_DIR, 'ACS_15_5YR_B04005/',\n",
    "                                         'ACS_15_5YR_B04005_with_ann.csv'])\n",
    "ALL_ANCE_FP      = ''.join([DEM_DIR, 'ACS_15_5YR_B04006/',\n",
    "                                         'ACS_15_5YR_B04006_with_ann.csv'])\n",
    "\n",
    "fps = [POP_FP, ACS_FOREIGN_BIRTH_FP, SNGL_ANCE_FP, \n",
    "       MULT_ANCE_FP, ALL_ANCE_FP]\n",
    "\n",
    "COLORED_FP = ''.join([IMG_DIR, 'temp.svg'])  # for playing around"
   ]
  },
  {
   "cell_type": "code",
   "execution_count": 36,
   "metadata": {
    "code_folding": [
     3
    ],
    "collapsed": true
   },
   "outputs": [],
   "source": [
    "import pandas as pd\n",
    "from utilities import split_state, state_to_abbr, code_to_str\n",
    "\n",
    "class ACSReader():\n",
    "    \n",
    "    # _OG indicates the column name in original table\n",
    "    FIPS_COL_OG, FIPS_COL = 'Id2', 'FIPS'\n",
    "    GEO_COL_OG,  GEO_COL  =  'Geography', 'County'\n",
    "    \n",
    "    EST_PRE, MOE_PRE = 'Estimate; ', 'Margin of Error; '\n",
    "    TOT_EST_OG, TOT_EST = EST_PRE+'Total', 'Tot'\n",
    "    \n",
    "    NEW_MOE_SUFFIX = '_Moe'\n",
    "    TOT_MOE_OG, TOT_MOE = MOE_PRE+'Total', 'Tot'+NEW_MOE_SUFFIX\n",
    "    \n",
    "    \n",
    "    # general columns, i.e. not specific var from kw\n",
    "    GEN_COLS_OG = [FIPS_COL_OG, GEO_COL_OG, TOT_EST_OG, TOT_MOE_OG]\n",
    "    GEN_COLS    = [FIPS_COL, GEO_COL, TOT_EST, TOT_MOE]\n",
    "    \n",
    "    TO_DROP = ['Id']  # never necessary\n",
    "    \n",
    "    def __init__(self, fp):\n",
    "        \n",
    "        self.fp = fp\n",
    "        \n",
    "    def read_counties(self, kw=None, name=None, total=True, moe=False):\n",
    "        \"\"\"Reads ACS county-level demographic data.\"\"\"\n",
    "\n",
    "        df = pd.read_csv(self.fp, skiprows=1, encoding='latin')\n",
    "        df = df.drop(self.TO_DROP, axis=1)\n",
    "        \n",
    "        # inconsistency across tables with total ending in ':'\n",
    "        df = df.rename(columns=lambda x: x.strip(':'))\n",
    "        \n",
    "        df = df.rename(columns=dict(zip(self.GEN_COLS_OG, self.GEN_COLS)))\n",
    "\n",
    "        if kw:\n",
    "            kw_cols = [x for x in df.columns if kw in x]\n",
    "\n",
    "            df = df.select(lambda x: x in self.GEN_COLS or x in kw_cols)\n",
    "\n",
    "            if name is not None:\n",
    "                # use kw arg value as new col name\n",
    "                name = kw if name is True else name\n",
    "\n",
    "                # prevents multiple kw matches from having the\n",
    "                # same name, i.e. ambiguous, but also allowing\n",
    "                # for when kw not found in columns\n",
    "                if len(kw_cols) > 2:\n",
    "                    raise ValueError('Renaming only supported when '\n",
    "                                    'keyword present in only one variable')\n",
    "                new_kw_cols = []\n",
    "                for kw_col in kw_cols:\n",
    "                    if self.EST_PRE in kw_col:\n",
    "                        new_kw_cols.append(name)\n",
    "                    elif self.MOE_PRE in kw_col:\n",
    "                        new_kw_cols.append(name+self.NEW_MOE_SUFFIX)\n",
    "                    else:\n",
    "                        new_kw_cols.append(kw_col)\n",
    "\n",
    "                df = df.rename(columns=dict(zip(kw_cols, new_kw_cols)))\n",
    "\n",
    "        if not moe:\n",
    "            df = df.select(\n",
    "                lambda x: not x.endswith(self.NEW_MOE_SUFFIX), axis=1\n",
    "            )\n",
    "        if not total:\n",
    "            df = df.select(\n",
    "                lambda x: x not in [self.TOT_EST, self.TOT_MOE], axis=1\n",
    "            )\n",
    "        \n",
    "        df[self.FIPS_COL] = code_to_str(df[self.FIPS_COL], 5)\n",
    "        df = df.set_index(self.FIPS_COL)\n",
    "        df = split_state(df, 'County')\n",
    "        df.State = state_to_abbr(df.State)\n",
    "            \n",
    "        return df\n"
   ]
  },
  {
   "cell_type": "code",
   "execution_count": 41,
   "metadata": {},
   "outputs": [],
   "source": [
    "POP_FP               = ''.join([DEM_DIR, 'ACS_15_5YR_B01003/',\n",
    "                                'ACS_15_5YR_B01003_with_ann.csv'])\n",
    "ACS_FOREIGN_BIRTH_FP = ''.join([DEM_DIR, 'ACS_15_5YR_B05006/', \n",
    "                                'ACS_15_5YR_B05006_with_ann.csv'])\n",
    "SNGL_ANCE_FP         = ''.join([DEM_DIR, 'ACS_15_5YR_B04004/',\n",
    "                                'ACS_15_5YR_B04004_with_ann.csv'])\n",
    "MULT_ANCE_FP         = ''.join([DEM_DIR, 'ACS_15_5YR_B04005/',\n",
    "                                'ACS_15_5YR_B04005_with_ann.csv'])\n",
    "ALL_ANCE_FP          = ''.join([DEM_DIR, 'ACS_15_5YR_B04006/',\n",
    "                                'ACS_15_5YR_B04006_with_ann.csv'])\n",
    "\n",
    "acs_reader = ACSCountyReader(POP_FP)\n",
    "acs_pop = acs_reader.read_counties()"
   ]
  },
  {
   "cell_type": "code",
   "execution_count": 43,
   "metadata": {},
   "outputs": [],
   "source": [
    "from test_acs import test_acs"
   ]
  },
  {
   "cell_type": "code",
   "execution_count": 46,
   "metadata": {},
   "outputs": [
    {
     "name": "stdout",
     "output_type": "stream",
     "text": [
      "Basic tests passed: no exceptions raised\r\n"
     ]
    }
   ],
   "source": [
    "!python test_acs.py"
   ]
  },
  {
   "cell_type": "code",
   "execution_count": 39,
   "metadata": {
    "code_folding": []
   },
   "outputs": [
    {
     "name": "stdout",
     "output_type": "stream",
     "text": [
      "Tests passed: no exceptions raised\n"
     ]
    }
   ],
   "source": [
    "import itertools as it\n",
    "\n",
    "def test_acs(data_dir):\n",
    "    \n",
    "    POP_FP               = ''.join([data_dir, 'ACS_15_5YR_B01003/',\n",
    "                                    'ACS_15_5YR_B01003_with_ann.csv'])\n",
    "    ACS_FOREIGN_BIRTH_FP = ''.join([data_dir, 'ACS_15_5YR_B05006/', \n",
    "                                    'ACS_15_5YR_B05006_with_ann.csv'])\n",
    "    SNGL_ANCE_FP         = ''.join([data_dir, 'ACS_15_5YR_B04004/',\n",
    "                                    'ACS_15_5YR_B04004_with_ann.csv'])\n",
    "    MULT_ANCE_FP         = ''.join([data_dir, 'ACS_15_5YR_B04005/',\n",
    "                                    'ACS_15_5YR_B04005_with_ann.csv'])\n",
    "    ALL_ANCE_FP          = ''.join([data_dir, 'ACS_15_5YR_B04006/',\n",
    "                                    'ACS_15_5YR_B04006_with_ann.csv'])\n",
    "\n",
    "    fps = [POP_FP, ACS_FOREIGN_BIRTH_FP, SNGL_ANCE_FP, \n",
    "           MULT_ANCE_FP, ALL_ANCE_FP]\n",
    "\n",
    "    kws = [False, 'test_kw']\n",
    "    names = [None, True, 'test_names']\n",
    "    drop_tot = [False, True]\n",
    "    drop_moe = [False, True]\n",
    "\n",
    "    \n",
    "    for fp in fps:\n",
    "        acs = ACSReader(fp)\n",
    "        for args in it.product(kws, names, drop_tot, drop_moe):\n",
    "            acs.read_counties(*args)\n",
    "            \n",
    "    print('Basic tests passed: no exceptions raised')\n",
    "            \n",
    "test_acs(DEM_DIR)"
   ]
  },
  {
   "cell_type": "code",
   "execution_count": null,
   "metadata": {
    "collapsed": true
   },
   "outputs": [],
   "source": []
  }
 ],
 "metadata": {
  "kernelspec": {
   "display_name": "Python [conda env:py3]",
   "language": "python",
   "name": "conda-env-py3-py"
  },
  "language_info": {
   "codemirror_mode": {
    "name": "ipython",
    "version": 3
   },
   "file_extension": ".py",
   "mimetype": "text/x-python",
   "name": "python",
   "nbconvert_exporter": "python",
   "pygments_lexer": "ipython3",
   "version": "3.5.3"
  },
  "nav_menu": {},
  "toc": {
   "navigate_menu": true,
   "number_sections": false,
   "sideBar": true,
   "threshold": 6,
   "toc_cell": false,
   "toc_section_display": "block",
   "toc_window_display": false
  }
 },
 "nbformat": 4,
 "nbformat_minor": 2
}
